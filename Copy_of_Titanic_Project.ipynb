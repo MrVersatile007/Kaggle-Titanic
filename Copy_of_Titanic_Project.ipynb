{
  "nbformat": 4,
  "nbformat_minor": 0,
  "metadata": {
    "colab": {
      "name": "Copy of Titanic Project.ipynb",
      "provenance": [],
      "authorship_tag": "ABX9TyN99awmwrPyYkQ3nxgNsCfV",
      "include_colab_link": true
    },
    "kernelspec": {
      "name": "python3",
      "display_name": "Python 3"
    },
    "language_info": {
      "name": "python"
    }
  },
  "cells": [
    {
      "cell_type": "markdown",
      "metadata": {
        "id": "view-in-github",
        "colab_type": "text"
      },
      "source": [
        "<a href=\"https://colab.research.google.com/github/MrVersatile007/Kaggle-Titanic/blob/main/Copy_of_Titanic_Project.ipynb\" target=\"_parent\"><img src=\"https://colab.research.google.com/assets/colab-badge.svg\" alt=\"Open In Colab\"/></a>"
      ]
    },
    {
      "cell_type": "code",
      "execution_count": null,
      "metadata": {
        "id": "NAWnTWT1rlDi"
      },
      "outputs": [],
      "source": [
        "#Let's get our hands dirty\n",
        "#TITANIC UISNG LOGISTIC ML"
      ]
    },
    {
      "cell_type": "markdown",
      "source": [
        "START WITH COLLECTING DATA"
      ],
      "metadata": {
        "id": "e1GCvbpnw23A"
      }
    },
    {
      "cell_type": "code",
      "source": [
        "import numpy as np\n",
        "import matplotlib.pyplot as plt\n",
        "import seaborn as sns\n",
        "import pandas as pd"
      ],
      "metadata": {
        "id": "FPirUf_twQsh"
      },
      "execution_count": null,
      "outputs": []
    },
    {
      "cell_type": "code",
      "source": [
        "titanic_data = pd.read_csv(\"train[1].csv\")"
      ],
      "metadata": {
        "id": "G2ARFkZDwZtt"
      },
      "execution_count": null,
      "outputs": []
    },
    {
      "cell_type": "code",
      "source": [
        "titanic_data.head()"
      ],
      "metadata": {
        "id": "8SeobIWGwjLZ"
      },
      "execution_count": null,
      "outputs": []
    },
    {
      "cell_type": "code",
      "source": [
        "titanic_data.size"
      ],
      "metadata": {
        "id": "Ug0SQs9MwmCD"
      },
      "execution_count": null,
      "outputs": []
    },
    {
      "cell_type": "markdown",
      "source": [
        "COLLECTION IS COMPLETED"
      ],
      "metadata": {
        "id": "QPfFKCs1w6jk"
      }
    },
    {
      "cell_type": "markdown",
      "source": [
        "ANALYSING DATA "
      ],
      "metadata": {
        "id": "u9VAQeBsxBQd"
      }
    },
    {
      "cell_type": "code",
      "source": [
        "# our target variable is to check survival\n",
        "sns.countplot(x=\"Survived\", data=titanic_data)"
      ],
      "metadata": {
        "id": "NPF0SbfxwsGq"
      },
      "execution_count": null,
      "outputs": []
    },
    {
      "cell_type": "code",
      "source": [
        "#another way\n",
        "sns.countplot(titanic_data[\"Survived\"])"
      ],
      "metadata": {
        "id": "G3hcvJETxOdj"
      },
      "execution_count": null,
      "outputs": []
    },
    {
      "cell_type": "code",
      "source": [
        "#2nd attribute is sex\n",
        "sns.countplot(x=\"Survived\", hue= \"Sex\", data = titanic_data)\n",
        "#looks like men had a bad time"
      ],
      "metadata": {
        "id": "BqeKh-vWxYoh"
      },
      "execution_count": null,
      "outputs": []
    },
    {
      "cell_type": "code",
      "source": [
        "#3rd attribute is Pclass\n",
        "sns.countplot(x=\"Survived\", hue= \"Pclass\", data= titanic_data) "
      ],
      "metadata": {
        "id": "McY3fi9TyQq0"
      },
      "execution_count": null,
      "outputs": []
    },
    {
      "cell_type": "code",
      "source": [
        "#4th attribute is age\n",
        "#sns.countplot(x=\"Survived\", hue=\"Age\", data= titanic_data)\n",
        "#THIS IS REAL BAD WAY !\n",
        "#HISTOGRAM IS GOOD HERE !\n",
        "sns.histplot(x= \"Age\", data = titanic_data)\n"
      ],
      "metadata": {
        "id": "Ys8SRprtytca"
      },
      "execution_count": null,
      "outputs": []
    },
    {
      "cell_type": "code",
      "source": [
        "#5th attribute is Fare\n",
        "sns.histplot(x= \"Fare\", data= titanic_data, bins=20)"
      ],
      "metadata": {
        "id": "L0t3iPqvy7c3"
      },
      "execution_count": null,
      "outputs": []
    },
    {
      "cell_type": "code",
      "source": [
        "#6th attribute is Sibsp\n",
        "sns.countplot(x=\"SibSp\", hue = \"Survived\", data=titanic_data)\n",
        "#there are mostly with 0 siblings and 0 spouses and they survived more"
      ],
      "metadata": {
        "id": "XkvIhql70EpP"
      },
      "execution_count": null,
      "outputs": []
    },
    {
      "cell_type": "markdown",
      "source": [
        "DATA ANALYSIS IS COMPLETED"
      ],
      "metadata": {
        "id": "zcndljc99IiH"
      }
    },
    {
      "cell_type": "markdown",
      "source": [
        "LET'S START DATA WRANGLING"
      ],
      "metadata": {
        "id": "8pG9hjQY9MWn"
      }
    },
    {
      "cell_type": "code",
      "source": [
        "titanic_data.head()\n"
      ],
      "metadata": {
        "id": "pQXe3BbO1RmQ"
      },
      "execution_count": null,
      "outputs": []
    },
    {
      "cell_type": "code",
      "source": [
        "#first check for null values\n",
        "titanic_data.isnull().sum()"
      ],
      "metadata": {
        "id": "BraC6xme84Pc"
      },
      "execution_count": null,
      "outputs": []
    },
    {
      "cell_type": "code",
      "source": [
        "#try to check through heat map\n",
        "sns.heatmap(titanic_data.isnull())\n",
        "#most of the cabin data is null drop it, it is useless\n",
        "#also drop null records  "
      ],
      "metadata": {
        "id": "5G0luFnD9jm2"
      },
      "execution_count": null,
      "outputs": []
    },
    {
      "cell_type": "code",
      "source": [
        "titanic_data.drop(\"Cabin\", axis=1, inplace=True)\n",
        "titanic_data.dropna(inplace= True)"
      ],
      "metadata": {
        "id": "00JuiU_G9-44"
      },
      "execution_count": null,
      "outputs": []
    },
    {
      "cell_type": "code",
      "source": [
        "titanic_data.head()"
      ],
      "metadata": {
        "id": "gpDbSrVo-poA"
      },
      "execution_count": null,
      "outputs": []
    },
    {
      "cell_type": "code",
      "source": [
        "titanic_data.isnull().sum()"
      ],
      "metadata": {
        "id": "YG1v8t8E-zjf"
      },
      "execution_count": null,
      "outputs": []
    },
    {
      "cell_type": "code",
      "source": [
        "#We can't draw insights from Name, Ticket, Passenger Id so drop them \n",
        "titanic_data.drop([\"Name\", \"Ticket\", \"PassengerId\"],axis=1, inplace= True)"
      ],
      "metadata": {
        "id": "FSW4Y94m_Tbw"
      },
      "execution_count": null,
      "outputs": []
    },
    {
      "cell_type": "code",
      "source": [
        "titanic_data.head()"
      ],
      "metadata": {
        "id": "lU8I6VLz_3cC"
      },
      "execution_count": null,
      "outputs": []
    },
    {
      "cell_type": "code",
      "source": [
        "#Passenger class, sex, Embarked are categorical data so we need to create dummies\n",
        "titanic_data= pd.get_dummies(titanic_data, drop_first= True)\n",
        "\n",
        "#our pandas automatically created dummies for categorical data... \n",
        "#but we know passenger class is categorical even it has numerics\n",
        "#so we need to do manually for P class"
      ],
      "metadata": {
        "id": "Sh_A6vevAHbs"
      },
      "execution_count": null,
      "outputs": []
    },
    {
      "cell_type": "code",
      "source": [
        "Pclss= pd.get_dummies(titanic_data['Pclass'], drop_first=True)\n",
        "Pclss"
      ],
      "metadata": {
        "id": "Z3jQvKwPA8y4"
      },
      "execution_count": null,
      "outputs": []
    },
    {
      "cell_type": "code",
      "source": [
        "titanic_data = pd.concat([titanic_data,Pclss], axis=1)\n",
        "titanic_data"
      ],
      "metadata": {
        "id": "3JlhYP6JCxog"
      },
      "execution_count": null,
      "outputs": []
    },
    {
      "cell_type": "code",
      "source": [
        "titanic_data =titanic_data.drop(['Pclass'], axis=1)\n",
        "#don't forget about axis=1\n",
        "titanic_data.head()"
      ],
      "metadata": {
        "id": "hpuYZXhAC2tg"
      },
      "execution_count": null,
      "outputs": []
    },
    {
      "cell_type": "markdown",
      "source": [
        "DATA WRANGLING IS DONE"
      ],
      "metadata": {
        "id": "h1a5RnvcEOXp"
      }
    },
    {
      "cell_type": "markdown",
      "source": [
        "LET'S TRAIN OUR DATA"
      ],
      "metadata": {
        "id": "-BgHYqmeEStn"
      }
    },
    {
      "cell_type": "code",
      "source": [
        "x=titanic_data.drop(\"Survived\", axis=1)\n",
        "y=titanic_data[\"Survived\"]"
      ],
      "metadata": {
        "id": "rbqJx97lFC0K"
      },
      "execution_count": null,
      "outputs": []
    },
    {
      "cell_type": "code",
      "source": [
        "from sklearn.model_selection import train_test_split"
      ],
      "metadata": {
        "id": "z_M9qvkQFEPa"
      },
      "execution_count": null,
      "outputs": []
    },
    {
      "cell_type": "code",
      "source": [
        "x_train, x_test, y_train, y_test = train_test_split(x,y, test_size = 0.3, shuffle=True, random_state=2)"
      ],
      "metadata": {
        "id": "rOMQc_pAGR4N"
      },
      "execution_count": null,
      "outputs": []
    },
    {
      "cell_type": "code",
      "source": [
        "from sklearn.linear_model import LogisticRegression\n",
        "my_model = LogisticRegression()\n",
        "my_model.fit(x_train,y_train)\n",
        "y_predictions = my_model.predict(x_test)"
      ],
      "metadata": {
        "id": "x3skih62GeRK"
      },
      "execution_count": null,
      "outputs": []
    },
    {
      "cell_type": "code",
      "source": [
        "from sklearn.metrics import classification_report, confusion_matrix, accuracy_score\n",
        "print(classification_report(y_test, y_predictions))"
      ],
      "metadata": {
        "id": "MXDepEkzIM-_"
      },
      "execution_count": null,
      "outputs": []
    },
    {
      "cell_type": "code",
      "source": [
        "print(confusion_matrix(y_test, y_predictions))"
      ],
      "metadata": {
        "id": "i02uQQ1XJVFZ"
      },
      "execution_count": null,
      "outputs": []
    },
    {
      "cell_type": "code",
      "source": [
        "print(accuracy_score(y_test, y_predictions))"
      ],
      "metadata": {
        "id": "xik2L84cJv_J"
      },
      "execution_count": null,
      "outputs": []
    },
    {
      "cell_type": "code",
      "source": [
        "test = pd.read_csv(\"test[1].csv\")"
      ],
      "metadata": {
        "id": "V8ZzhdOAJ5YK"
      },
      "execution_count": null,
      "outputs": []
    },
    {
      "cell_type": "code",
      "source": [
        "test.head()"
      ],
      "metadata": {
        "id": "0JD8C4R8KqC2"
      },
      "execution_count": null,
      "outputs": []
    },
    {
      "cell_type": "code",
      "source": [
        "test.size"
      ],
      "metadata": {
        "id": "3lh7F9c3K6nT"
      },
      "execution_count": null,
      "outputs": []
    },
    {
      "cell_type": "code",
      "source": [
        "test.isnull().sum()"
      ],
      "metadata": {
        "id": "VHwpmvOsLKKP"
      },
      "execution_count": null,
      "outputs": []
    },
    {
      "cell_type": "code",
      "source": [
        "temp_test= test.dropna(inplace=True)"
      ],
      "metadata": {
        "id": "8lT64m8ZL50-"
      },
      "execution_count": null,
      "outputs": []
    },
    {
      "cell_type": "code",
      "source": [
        "test_data= test.drop([\"Cabin\", 'Name','PassendgerId', 'Ticket'], axis=1)\n",
        "test_data= test_data.dropna(ínplace=True)"
      ],
      "metadata": {
        "id": "hW_SfdERLdCc"
      },
      "execution_count": null,
      "outputs": []
    },
    {
      "cell_type": "code",
      "source": [
        "#Passenger class, sex, Embarked are categorical data so we need to create dummies\n",
        "test_data= pd.get_dummies(test_data, drop_first= True)\n",
        "Pclss= pd.get_dummies(test_data['Pclass'], drop_first=True)\n",
        "test_data = pd.concat([test_data,Pclss], axis=1)\n",
        "test_data.drop([\"Pclass\"], axis=1, inplace= True)"
      ],
      "metadata": {
        "id": "8c0-D8mCMFWq"
      },
      "execution_count": null,
      "outputs": []
    },
    {
      "cell_type": "code",
      "source": [
        "test_data.head()"
      ],
      "metadata": {
        "id": "l0aiCcjiM4eW"
      },
      "execution_count": null,
      "outputs": []
    },
    {
      "cell_type": "code",
      "source": [
        "my_model.fit(x_train,y_train)"
      ],
      "metadata": {
        "id": "E7FFcbTZNnzH"
      },
      "execution_count": null,
      "outputs": []
    },
    {
      "cell_type": "code",
      "source": [
        "test_prediction= my_model.predict(test_data)\n",
        "test_prediction"
      ],
      "metadata": {
        "id": "vXxaipLoOAB_"
      },
      "execution_count": null,
      "outputs": []
    },
    {
      "cell_type": "code",
      "source": [
        "passenger_id = pd.DataFrame({'PassengerId':temp_test['PassengerId']})\n",
        "Survived = pd.DataFrame({'Survived':test_prediction},dtype='int64')\n",
        "answer= pd.concat([passenger_id,Survived], axis=1)\n",
        "answer.dropna(inplace=True)"
      ],
      "metadata": {
        "id": "8ci4SFzTOPcV"
      },
      "execution_count": null,
      "outputs": []
    },
    {
      "cell_type": "code",
      "source": [
        "sample= pd.read_csv(\"gender_submission[1].csv\")"
      ],
      "metadata": {
        "id": "R_IUWIe4OjQt"
      },
      "execution_count": null,
      "outputs": []
    },
    {
      "cell_type": "code",
      "source": [
        "sample"
      ],
      "metadata": {
        "id": "2MaxHtMUOq4o"
      },
      "execution_count": null,
      "outputs": []
    },
    {
      "cell_type": "code",
      "source": [
        ""
      ],
      "metadata": {
        "id": "L-bhluNORYhx"
      },
      "execution_count": null,
      "outputs": []
    }
  ]
}